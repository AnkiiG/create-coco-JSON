{
  "nbformat": 4,
  "nbformat_minor": 0,
  "metadata": {
    "colab": {
      "name": "Untitled0.ipynb",
      "provenance": [],
      "authorship_tag": "ABX9TyOTYDR558DLJw6dG0y87RvR",
      "include_colab_link": true
    },
    "kernelspec": {
      "name": "python3",
      "display_name": "Python 3"
    },
    "language_info": {
      "name": "python"
    }
  },
  "cells": [
    {
      "cell_type": "markdown",
      "metadata": {
        "id": "view-in-github",
        "colab_type": "text"
      },
      "source": [
        "<a href=\"https://colab.research.google.com/github/AnkiiG/create-coco-JSON/blob/master/coco%20JSON.ipynb\" target=\"_parent\"><img src=\"https://colab.research.google.com/assets/colab-badge.svg\" alt=\"Open In Colab\"/></a>"
      ]
    },
    {
      "cell_type": "code",
      "metadata": {
        "colab": {
          "base_uri": "https://localhost:8080/"
        },
        "id": "u_CtyvEeU5Mp",
        "outputId": "4a0dc050-6abc-4fb3-fcb3-02c65dd802de"
      },
      "source": [
        "from google.colab import drive\n",
        "drive.mount('/content/drive')"
      ],
      "execution_count": 1,
      "outputs": [
        {
          "output_type": "stream",
          "name": "stdout",
          "text": [
            "Mounted at /content/drive\n"
          ]
        }
      ]
    },
    {
      "cell_type": "code",
      "metadata": {
        "colab": {
          "base_uri": "https://localhost:8080/"
        },
        "id": "rkymRXpHW-OY",
        "outputId": "dc78a355-b722-43f5-dd3f-4933dccadf70"
      },
      "source": [
        "!git clone https://github.com/Tony607/labelme2coco.git"
      ],
      "execution_count": 3,
      "outputs": [
        {
          "output_type": "stream",
          "name": "stdout",
          "text": [
            "Cloning into 'labelme2coco'...\n",
            "remote: Enumerating objects: 63, done.\u001b[K\n",
            "remote: Total 63 (delta 0), reused 0 (delta 0), pack-reused 63\u001b[K\n",
            "Unpacking objects: 100% (63/63), done.\n"
          ]
        }
      ]
    },
    {
      "cell_type": "code",
      "metadata": {
        "colab": {
          "base_uri": "https://localhost:8080/"
        },
        "id": "PXW8sJUjXn8p",
        "outputId": "bd6563ac-f43e-4b59-9a4c-afb4c7020da5"
      },
      "source": [
        "!pip install pyqt5 "
      ],
      "execution_count": 5,
      "outputs": [
        {
          "output_type": "stream",
          "name": "stdout",
          "text": [
            "Collecting pyqt5\n",
            "  Downloading PyQt5-5.15.4-cp36.cp37.cp38.cp39-abi3-manylinux2014_x86_64.whl (8.3 MB)\n",
            "\u001b[K     |████████████████████████████████| 8.3 MB 5.3 MB/s \n",
            "\u001b[?25hCollecting PyQt5-sip<13,>=12.8\n",
            "  Downloading PyQt5_sip-12.9.0-cp37-cp37m-manylinux1_x86_64.whl (317 kB)\n",
            "\u001b[K     |████████████████████████████████| 317 kB 66.6 MB/s \n",
            "\u001b[?25hCollecting PyQt5-Qt5>=5.15\n",
            "  Downloading PyQt5_Qt5-5.15.2-py3-none-manylinux2014_x86_64.whl (59.9 MB)\n",
            "\u001b[K     |████████████████████████████████| 59.9 MB 36 kB/s \n",
            "\u001b[?25hInstalling collected packages: PyQt5-sip, PyQt5-Qt5, pyqt5\n",
            "Successfully installed PyQt5-Qt5-5.15.2 PyQt5-sip-12.9.0 pyqt5-5.15.4\n"
          ]
        }
      ]
    },
    {
      "cell_type": "code",
      "metadata": {
        "colab": {
          "base_uri": "https://localhost:8080/"
        },
        "id": "XoDm31efXtYF",
        "outputId": "f36d7b0f-92db-4344-be28-60a2c6611b3f"
      },
      "source": [
        "!pip install labelme"
      ],
      "execution_count": 6,
      "outputs": [
        {
          "output_type": "stream",
          "name": "stdout",
          "text": [
            "Collecting labelme\n",
            "  Downloading labelme-4.5.10.tar.gz (1.5 MB)\n",
            "\u001b[K     |████████████████████████████████| 1.5 MB 5.1 MB/s \n",
            "\u001b[?25hCollecting imgviz<1.3,>=0.11\n",
            "  Downloading imgviz-1.2.6.tar.gz (7.7 MB)\n",
            "\u001b[K     |████████████████████████████████| 7.7 MB 41.6 MB/s \n",
            "\u001b[?25h  Installing build dependencies ... \u001b[?25l\u001b[?25hdone\n",
            "  Getting requirements to build wheel ... \u001b[?25l\u001b[?25hdone\n",
            "    Preparing wheel metadata ... \u001b[?25l\u001b[?25hdone\n",
            "Requirement already satisfied: matplotlib<3.3 in /usr/local/lib/python3.7/dist-packages (from labelme) (3.2.2)\n",
            "Requirement already satisfied: numpy in /usr/local/lib/python3.7/dist-packages (from labelme) (1.19.5)\n",
            "Requirement already satisfied: Pillow>=2.8 in /usr/local/lib/python3.7/dist-packages (from labelme) (7.1.2)\n",
            "Requirement already satisfied: PyYAML in /usr/local/lib/python3.7/dist-packages (from labelme) (3.13)\n",
            "Requirement already satisfied: qtpy in /usr/local/lib/python3.7/dist-packages (from labelme) (1.11.1)\n",
            "Requirement already satisfied: termcolor in /usr/local/lib/python3.7/dist-packages (from labelme) (1.1.0)\n",
            "Requirement already satisfied: pyparsing!=2.0.4,!=2.1.2,!=2.1.6,>=2.0.1 in /usr/local/lib/python3.7/dist-packages (from matplotlib<3.3->labelme) (2.4.7)\n",
            "Requirement already satisfied: python-dateutil>=2.1 in /usr/local/lib/python3.7/dist-packages (from matplotlib<3.3->labelme) (2.8.2)\n",
            "Requirement already satisfied: kiwisolver>=1.0.1 in /usr/local/lib/python3.7/dist-packages (from matplotlib<3.3->labelme) (1.3.2)\n",
            "Requirement already satisfied: cycler>=0.10 in /usr/local/lib/python3.7/dist-packages (from matplotlib<3.3->labelme) (0.10.0)\n",
            "Requirement already satisfied: six in /usr/local/lib/python3.7/dist-packages (from cycler>=0.10->matplotlib<3.3->labelme) (1.15.0)\n",
            "Building wheels for collected packages: labelme, imgviz\n",
            "  Building wheel for labelme (setup.py) ... \u001b[?25l\u001b[?25hdone\n",
            "  Created wheel for labelme: filename=labelme-4.5.10-py3-none-any.whl size=1465487 sha256=e21dd8949d6aaed1cec4b1001d6f68e6cd1975810d5315be033369ceba7cae39\n",
            "  Stored in directory: /root/.cache/pip/wheels/25/9f/92/6c1b4e3a564cd1950878af4ebb552bbb04b6f86111b747af13\n",
            "  Building wheel for imgviz (PEP 517) ... \u001b[?25l\u001b[?25hdone\n",
            "  Created wheel for imgviz: filename=imgviz-1.2.6-py3-none-any.whl size=7674115 sha256=cc74fcdb8d78f6c8b4c4c9e932d6e65ab29a86940f8b50d14f1835dc51850f2a\n",
            "  Stored in directory: /root/.cache/pip/wheels/e6/64/f9/a28eca2133ece5f072f51282577f2f9b7d6d0492eb3d2104dd\n",
            "Successfully built labelme imgviz\n",
            "Installing collected packages: imgviz, labelme\n",
            "Successfully installed imgviz-1.2.6 labelme-4.5.10\n"
          ]
        }
      ]
    },
    {
      "cell_type": "code",
      "metadata": {
        "id": "8tS18B76W0Oq"
      },
      "source": [
        "import os\n",
        "import argparse\n",
        "import json\n",
        "\n",
        "from labelme import utils\n",
        "import numpy as np\n",
        "import glob\n",
        "import PIL.Image\n"
      ],
      "execution_count": 7,
      "outputs": []
    },
    {
      "cell_type": "code",
      "metadata": {
        "colab": {
          "base_uri": "https://localhost:8080/"
        },
        "id": "Adc3xlRTYAEl",
        "outputId": "d76e4fe0-57ca-45f8-cb02-09e47848c667"
      },
      "source": [
        "class labelme2coco(object):\n",
        "    def __init__(self, labelme_json=[], save_json_path=\"./coco.json\"):\n",
        "        \"\"\"\n",
        "        :param labelme_json: the list of all labelme json file paths\n",
        "        :param save_json_path: the path to save new json\n",
        "        \"\"\"\n",
        "        self.labelme_json = labelme_json\n",
        "        self.save_json_path = save_json_path\n",
        "        self.images = []\n",
        "        self.categories = []\n",
        "        self.annotations = []\n",
        "        self.label = []\n",
        "        self.annID = 1\n",
        "        self.height = 0\n",
        "        self.width = 0\n",
        "\n",
        "        self.save_json()\n",
        "\n",
        "    def data_transfer(self):\n",
        "        for num, json_file in enumerate(self.labelme_json):\n",
        "            with open(json_file, \"r\") as fp:\n",
        "                data = json.load(fp)\n",
        "                self.images.append(self.image(data, num))\n",
        "                for shapes in data[\"shapes\"]:\n",
        "                    label = shapes[\"label\"].split(\"_\")\n",
        "                    if label not in self.label:\n",
        "                        self.label.append(label)\n",
        "                    points = shapes[\"points\"]\n",
        "                    self.annotations.append(self.annotation(points, label, num))\n",
        "                    self.annID += 1\n",
        "\n",
        "        # Sort all text labels so they are in the same order across data splits.\n",
        "        self.label.sort()\n",
        "        for label in self.label:\n",
        "            self.categories.append(self.category(label))\n",
        "        for annotation in self.annotations:\n",
        "            annotation[\"category_id\"] = self.getcatid(annotation[\"category_id\"])\n",
        "\n",
        "    def image(self, data, num):\n",
        "        image = {}\n",
        "        img = utils.img_b64_to_arr(data[\"imageData\"])\n",
        "        height, width = img.shape[:2]\n",
        "        img = None\n",
        "        image[\"height\"] = height\n",
        "        image[\"width\"] = width\n",
        "        image[\"id\"] = num\n",
        "        image[\"file_name\"] = data[\"imagePath\"].split(\"/\")[-1]\n",
        "\n",
        "        self.height = height\n",
        "        self.width = width\n",
        "\n",
        "        return image\n",
        "\n",
        "    def category(self, label):\n",
        "        category = {}\n",
        "        category[\"supercategory\"] = label[0]\n",
        "        category[\"id\"] = len(self.categories)\n",
        "        category[\"name\"] = label[0]\n",
        "        return category\n",
        "\n",
        "    def annotation(self, points, label, num):\n",
        "        annotation = {}\n",
        "        contour = np.array(points)\n",
        "        x = contour[:, 0]\n",
        "        y = contour[:, 1]\n",
        "        area = 0.5 * np.abs(np.dot(x, np.roll(y, 1)) - np.dot(y, np.roll(x, 1)))\n",
        "        annotation[\"segmentation\"] = [list(np.asarray(points).flatten())]\n",
        "        annotation[\"iscrowd\"] = 0\n",
        "        annotation[\"area\"] = area\n",
        "        annotation[\"image_id\"] = num\n",
        "\n",
        "        annotation[\"bbox\"] = list(map(float, self.getbbox(points)))\n",
        "\n",
        "        annotation[\"category_id\"] = label[0]  # self.getcatid(label)\n",
        "        annotation[\"id\"] = self.annID\n",
        "        return annotation\n",
        "\n",
        "    def getcatid(self, label):\n",
        "        for category in self.categories:\n",
        "            if label == category[\"name\"]:\n",
        "                return category[\"id\"]\n",
        "        print(\"label: {} not in categories: {}.\".format(label, self.categories))\n",
        "        exit()\n",
        "        return -1\n",
        "\n",
        "    def getbbox(self, points):\n",
        "        polygons = points\n",
        "        mask = self.polygons_to_mask([self.height, self.width], polygons)\n",
        "        return self.mask2box(mask)\n",
        "\n",
        "    def mask2box(self, mask):\n",
        "\n",
        "        index = np.argwhere(mask == 1)\n",
        "        rows = index[:, 0]\n",
        "        clos = index[:, 1]\n",
        "\n",
        "        left_top_r = np.min(rows)  # y\n",
        "        left_top_c = np.min(clos)  # x\n",
        "\n",
        "        right_bottom_r = np.max(rows)\n",
        "        right_bottom_c = np.max(clos)\n",
        "\n",
        "        return [\n",
        "            left_top_c,\n",
        "            left_top_r,\n",
        "            right_bottom_c - left_top_c,\n",
        "            right_bottom_r - left_top_r,\n",
        "        ]\n",
        "\n",
        "    def polygons_to_mask(self, img_shape, polygons):\n",
        "        mask = np.zeros(img_shape, dtype=np.uint8)\n",
        "        mask = PIL.Image.fromarray(mask)\n",
        "        xy = list(map(tuple, polygons))\n",
        "        PIL.ImageDraw.Draw(mask).polygon(xy=xy, outline=1, fill=1)\n",
        "        mask = np.array(mask, dtype=bool)\n",
        "        return mask\n",
        "\n",
        "    def data2coco(self):\n",
        "        data_coco = {}\n",
        "        data_coco[\"images\"] = self.images\n",
        "        data_coco[\"categories\"] = self.categories\n",
        "        data_coco[\"annotations\"] = self.annotations\n",
        "        return data_coco\n",
        "\n",
        "    def save_json(self):\n",
        "        print(\"save coco json\")\n",
        "        self.data_transfer()\n",
        "        self.data_coco = self.data2coco()\n",
        "\n",
        "        print(self.save_json_path)\n",
        "        os.makedirs(\n",
        "            os.path.dirname(os.path.abspath(self.save_json_path)), exist_ok=True\n",
        "        )\n",
        "        json.dump(self.data_coco, open(self.save_json_path, \"w\"), indent=4)\n",
        "\n",
        "\n",
        "if __name__ == \"__main__\":\n",
        "    import argparse\n",
        "\n",
        "    parser = argparse.ArgumentParser(\n",
        "        description=\"labelme annotation to coco data json file.\"\n",
        "    )\n",
        "    parser.add_argument(\n",
        "        \"labelme_images\",\n",
        "        help=\"Directory to labelme images and annotation json files.\",\n",
        "        type=str,\n",
        "    )\n",
        "    parser.add_argument(\n",
        "        \"--output\", help=\"Output json file path.\", default=\"trainval.json\"\n",
        "    )\n",
        "    args, unknown = parser.parse_known_args()\n",
        "    #args = parser.parse_args()\n",
        "    labelme_json = glob.glob(os.path.join(args.labelme_images, \"*.json\"))\n",
        "    labelme2coco(labelme_json, args.output)"
      ],
      "execution_count": 10,
      "outputs": [
        {
          "output_type": "stream",
          "name": "stdout",
          "text": [
            "save coco json\n",
            "trainval.json\n"
          ]
        }
      ]
    }
  ]
}